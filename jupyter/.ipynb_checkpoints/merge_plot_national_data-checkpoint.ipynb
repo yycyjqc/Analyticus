{
 "cells": [
  {
   "cell_type": "markdown",
   "metadata": {},
   "source": [
    "<p>Class:  USC Viterbi Data Analytics Bootcamp</p>\n",
    "<p>Team:  Analyticus (aka Team 5)</p>\n",
    "<p>Module:  merge_plot_national_data.py<p>\n",
    "<p>Version:  March 31, 2018\n",
    "<p>Input 1:  CDC Influenza-Like-Illness Json File for Flu Season 2017</p>\n",
    "<p>Input 2:  HHS Vaccinations Json File for Flu Season 2017</p>\n",
    "<p>Output:  A json file of merged input used for plots.</p>"
   ]
  },
  {
   "cell_type": "code",
   "execution_count": 1,
   "metadata": {
    "collapsed": true
   },
   "outputs": [],
   "source": [
    "# Import dependances.\n",
    "import json\n",
    "import pandas as pd"
   ]
  },
  {
   "cell_type": "code",
   "execution_count": 2,
   "metadata": {
    "collapsed": true
   },
   "outputs": [],
   "source": [
    "# Load CDC data into a dataframe.\n",
    "df = pd.read_json('../data/cdc_national.json')"
   ]
  },
  {
   "cell_type": "code",
   "execution_count": 3,
   "metadata": {},
   "outputs": [
    {
     "data": {
      "text/html": [
       "<div>\n",
       "<style>\n",
       "    .dataframe thead tr:only-child th {\n",
       "        text-align: right;\n",
       "    }\n",
       "\n",
       "    .dataframe thead th {\n",
       "        text-align: left;\n",
       "    }\n",
       "\n",
       "    .dataframe tbody tr th {\n",
       "        vertical-align: top;\n",
       "    }\n",
       "</style>\n",
       "<table border=\"1\" class=\"dataframe\">\n",
       "  <thead>\n",
       "    <tr style=\"text-align: right;\">\n",
       "      <th></th>\n",
       "      <th>Cases</th>\n",
       "      <th>Percent</th>\n",
       "      <th>Week</th>\n",
       "      <th>Year</th>\n",
       "    </tr>\n",
       "  </thead>\n",
       "  <tbody>\n",
       "    <tr>\n",
       "      <th>0</th>\n",
       "      <td>13021</td>\n",
       "      <td>1.401146</td>\n",
       "      <td>40</td>\n",
       "      <td>2017</td>\n",
       "    </tr>\n",
       "    <tr>\n",
       "      <th>1</th>\n",
       "      <td>13291</td>\n",
       "      <td>1.430199</td>\n",
       "      <td>41</td>\n",
       "      <td>2017</td>\n",
       "    </tr>\n",
       "    <tr>\n",
       "      <th>10</th>\n",
       "      <td>31453</td>\n",
       "      <td>3.384551</td>\n",
       "      <td>50</td>\n",
       "      <td>2017</td>\n",
       "    </tr>\n",
       "    <tr>\n",
       "      <th>11</th>\n",
       "      <td>42535</td>\n",
       "      <td>4.577047</td>\n",
       "      <td>51</td>\n",
       "      <td>2017</td>\n",
       "    </tr>\n",
       "    <tr>\n",
       "      <th>12</th>\n",
       "      <td>44965</td>\n",
       "      <td>4.838531</td>\n",
       "      <td>52</td>\n",
       "      <td>2017</td>\n",
       "    </tr>\n",
       "  </tbody>\n",
       "</table>\n",
       "</div>"
      ],
      "text/plain": [
       "    Cases   Percent  Week  Year\n",
       "0   13021  1.401146    40  2017\n",
       "1   13291  1.430199    41  2017\n",
       "10  31453  3.384551    50  2017\n",
       "11  42535  4.577047    51  2017\n",
       "12  44965  4.838531    52  2017"
      ]
     },
     "execution_count": 3,
     "metadata": {},
     "output_type": "execute_result"
    }
   ],
   "source": [
    "# Inspect the dataframe.\n",
    "df.head()"
   ]
  },
  {
   "cell_type": "code",
   "execution_count": 4,
   "metadata": {
    "collapsed": true
   },
   "outputs": [],
   "source": [
    "# Normalize CDC week to HHS week using a dictionary.\n",
    "cases_dict = {}\n",
    "for i in list(df.index):\n",
    "    case_dict = {}\n",
    "    case_dict[\"flu_cases\"] = df.loc[i,'Cases']\n",
    "    case_dict[\"flu_percent\"] = df.loc[i, 'Percent']\n",
    "    \n",
    "    # Normalize CDC Week to Plot Week.\n",
    "    if df.loc[i, 'Year'] == 2017:\n",
    "        case_dict[\"week\"] = df.loc[i,'Week'] - 30\n",
    "    else:\n",
    "        case_dict[\"week\"] = df.loc[i,'Week'] + 22\n",
    "       \n",
    "    cases_dict[str(i)] = case_dict"
   ]
  },
  {
   "cell_type": "code",
   "execution_count": 5,
   "metadata": {
    "collapsed": true
   },
   "outputs": [],
   "source": [
    "# Load the CDC dataframe from the normalized dictionary.\n",
    "df_cdc = pd.DataFrame(cases_dict)"
   ]
  },
  {
   "cell_type": "code",
   "execution_count": 6,
   "metadata": {},
   "outputs": [
    {
     "data": {
      "text/html": [
       "<div>\n",
       "<style>\n",
       "    .dataframe thead tr:only-child th {\n",
       "        text-align: right;\n",
       "    }\n",
       "\n",
       "    .dataframe thead th {\n",
       "        text-align: left;\n",
       "    }\n",
       "\n",
       "    .dataframe tbody tr th {\n",
       "        vertical-align: top;\n",
       "    }\n",
       "</style>\n",
       "<table border=\"1\" class=\"dataframe\">\n",
       "  <thead>\n",
       "    <tr style=\"text-align: right;\">\n",
       "      <th></th>\n",
       "      <th>0</th>\n",
       "      <th>1</th>\n",
       "      <th>10</th>\n",
       "      <th>11</th>\n",
       "      <th>12</th>\n",
       "      <th>13</th>\n",
       "      <th>14</th>\n",
       "      <th>15</th>\n",
       "      <th>16</th>\n",
       "      <th>17</th>\n",
       "      <th>...</th>\n",
       "      <th>21</th>\n",
       "      <th>22</th>\n",
       "      <th>23</th>\n",
       "      <th>3</th>\n",
       "      <th>4</th>\n",
       "      <th>5</th>\n",
       "      <th>6</th>\n",
       "      <th>7</th>\n",
       "      <th>8</th>\n",
       "      <th>9</th>\n",
       "    </tr>\n",
       "  </thead>\n",
       "  <tbody>\n",
       "    <tr>\n",
       "      <th>flu_cases</th>\n",
       "      <td>13021.000000</td>\n",
       "      <td>13291.000000</td>\n",
       "      <td>31453.000000</td>\n",
       "      <td>42535.000000</td>\n",
       "      <td>44965.000000</td>\n",
       "      <td>47196.000000</td>\n",
       "      <td>56633.000000</td>\n",
       "      <td>62885.000000</td>\n",
       "      <td>76992.000000</td>\n",
       "      <td>84926.000000</td>\n",
       "      <td>...</td>\n",
       "      <td>34714.000000</td>\n",
       "      <td>27738.000000</td>\n",
       "      <td>22781.000000</td>\n",
       "      <td>15845.000000</td>\n",
       "      <td>17081.000000</td>\n",
       "      <td>18972.000000</td>\n",
       "      <td>21784.000000</td>\n",
       "      <td>19715.000000</td>\n",
       "      <td>23692.000000</td>\n",
       "      <td>24812.000000</td>\n",
       "    </tr>\n",
       "    <tr>\n",
       "      <th>flu_percent</th>\n",
       "      <td>1.401146</td>\n",
       "      <td>1.430199</td>\n",
       "      <td>3.384551</td>\n",
       "      <td>4.577047</td>\n",
       "      <td>4.838531</td>\n",
       "      <td>5.078601</td>\n",
       "      <td>6.094085</td>\n",
       "      <td>6.766841</td>\n",
       "      <td>8.284848</td>\n",
       "      <td>9.138598</td>\n",
       "      <td>...</td>\n",
       "      <td>3.735456</td>\n",
       "      <td>2.984792</td>\n",
       "      <td>2.451386</td>\n",
       "      <td>1.705027</td>\n",
       "      <td>1.838028</td>\n",
       "      <td>2.041513</td>\n",
       "      <td>2.344102</td>\n",
       "      <td>2.121464</td>\n",
       "      <td>2.549416</td>\n",
       "      <td>2.669935</td>\n",
       "    </tr>\n",
       "    <tr>\n",
       "      <th>week</th>\n",
       "      <td>10.000000</td>\n",
       "      <td>11.000000</td>\n",
       "      <td>20.000000</td>\n",
       "      <td>21.000000</td>\n",
       "      <td>22.000000</td>\n",
       "      <td>23.000000</td>\n",
       "      <td>24.000000</td>\n",
       "      <td>25.000000</td>\n",
       "      <td>26.000000</td>\n",
       "      <td>27.000000</td>\n",
       "      <td>...</td>\n",
       "      <td>31.000000</td>\n",
       "      <td>32.000000</td>\n",
       "      <td>33.000000</td>\n",
       "      <td>13.000000</td>\n",
       "      <td>14.000000</td>\n",
       "      <td>15.000000</td>\n",
       "      <td>16.000000</td>\n",
       "      <td>17.000000</td>\n",
       "      <td>18.000000</td>\n",
       "      <td>19.000000</td>\n",
       "    </tr>\n",
       "  </tbody>\n",
       "</table>\n",
       "<p>3 rows × 24 columns</p>\n",
       "</div>"
      ],
      "text/plain": [
       "                        0             1            10            11  \\\n",
       "flu_cases    13021.000000  13291.000000  31453.000000  42535.000000   \n",
       "flu_percent      1.401146      1.430199      3.384551      4.577047   \n",
       "week            10.000000     11.000000     20.000000     21.000000   \n",
       "\n",
       "                       12            13            14            15  \\\n",
       "flu_cases    44965.000000  47196.000000  56633.000000  62885.000000   \n",
       "flu_percent      4.838531      5.078601      6.094085      6.766841   \n",
       "week            22.000000     23.000000     24.000000     25.000000   \n",
       "\n",
       "                       16            17      ...                 21  \\\n",
       "flu_cases    76992.000000  84926.000000      ...       34714.000000   \n",
       "flu_percent      8.284848      9.138598      ...           3.735456   \n",
       "week            26.000000     27.000000      ...          31.000000   \n",
       "\n",
       "                       22            23             3             4  \\\n",
       "flu_cases    27738.000000  22781.000000  15845.000000  17081.000000   \n",
       "flu_percent      2.984792      2.451386      1.705027      1.838028   \n",
       "week            32.000000     33.000000     13.000000     14.000000   \n",
       "\n",
       "                        5             6             7             8  \\\n",
       "flu_cases    18972.000000  21784.000000  19715.000000  23692.000000   \n",
       "flu_percent      2.041513      2.344102      2.121464      2.549416   \n",
       "week            15.000000     16.000000     17.000000     18.000000   \n",
       "\n",
       "                        9  \n",
       "flu_cases    24812.000000  \n",
       "flu_percent      2.669935  \n",
       "week            19.000000  \n",
       "\n",
       "[3 rows x 24 columns]"
      ]
     },
     "execution_count": 6,
     "metadata": {},
     "output_type": "execute_result"
    }
   ],
   "source": [
    "# Inspect the CDC dataframe.\n",
    "df_cdc.head()"
   ]
  },
  {
   "cell_type": "code",
   "execution_count": 7,
   "metadata": {
    "collapsed": true
   },
   "outputs": [],
   "source": [
    "# Swap axis of the CDC dataframe so attributes are moved to columns.\n",
    "df_cdc = df_cdc.T"
   ]
  },
  {
   "cell_type": "code",
   "execution_count": 8,
   "metadata": {},
   "outputs": [
    {
     "data": {
      "text/html": [
       "<div>\n",
       "<style>\n",
       "    .dataframe thead tr:only-child th {\n",
       "        text-align: right;\n",
       "    }\n",
       "\n",
       "    .dataframe thead th {\n",
       "        text-align: left;\n",
       "    }\n",
       "\n",
       "    .dataframe tbody tr th {\n",
       "        vertical-align: top;\n",
       "    }\n",
       "</style>\n",
       "<table border=\"1\" class=\"dataframe\">\n",
       "  <thead>\n",
       "    <tr style=\"text-align: right;\">\n",
       "      <th></th>\n",
       "      <th>flu_cases</th>\n",
       "      <th>flu_percent</th>\n",
       "      <th>week</th>\n",
       "    </tr>\n",
       "  </thead>\n",
       "  <tbody>\n",
       "    <tr>\n",
       "      <th>0</th>\n",
       "      <td>13021.0</td>\n",
       "      <td>1.401146</td>\n",
       "      <td>10.0</td>\n",
       "    </tr>\n",
       "    <tr>\n",
       "      <th>1</th>\n",
       "      <td>13291.0</td>\n",
       "      <td>1.430199</td>\n",
       "      <td>11.0</td>\n",
       "    </tr>\n",
       "    <tr>\n",
       "      <th>10</th>\n",
       "      <td>31453.0</td>\n",
       "      <td>3.384551</td>\n",
       "      <td>20.0</td>\n",
       "    </tr>\n",
       "    <tr>\n",
       "      <th>11</th>\n",
       "      <td>42535.0</td>\n",
       "      <td>4.577047</td>\n",
       "      <td>21.0</td>\n",
       "    </tr>\n",
       "    <tr>\n",
       "      <th>12</th>\n",
       "      <td>44965.0</td>\n",
       "      <td>4.838531</td>\n",
       "      <td>22.0</td>\n",
       "    </tr>\n",
       "  </tbody>\n",
       "</table>\n",
       "</div>"
      ],
      "text/plain": [
       "    flu_cases  flu_percent  week\n",
       "0     13021.0     1.401146  10.0\n",
       "1     13291.0     1.430199  11.0\n",
       "10    31453.0     3.384551  20.0\n",
       "11    42535.0     4.577047  21.0\n",
       "12    44965.0     4.838531  22.0"
      ]
     },
     "execution_count": 8,
     "metadata": {},
     "output_type": "execute_result"
    }
   ],
   "source": [
    "# Inspect the CDC dataframe.\n",
    "df_cdc.head()"
   ]
  },
  {
   "cell_type": "code",
   "execution_count": 9,
   "metadata": {
    "collapsed": true
   },
   "outputs": [],
   "source": [
    "# Sort by week to aid analysis.\n",
    "df_cdc = df_cdc.sort_values(['week'])"
   ]
  },
  {
   "cell_type": "code",
   "execution_count": 10,
   "metadata": {},
   "outputs": [
    {
     "data": {
      "text/html": [
       "<div>\n",
       "<style>\n",
       "    .dataframe thead tr:only-child th {\n",
       "        text-align: right;\n",
       "    }\n",
       "\n",
       "    .dataframe thead th {\n",
       "        text-align: left;\n",
       "    }\n",
       "\n",
       "    .dataframe tbody tr th {\n",
       "        vertical-align: top;\n",
       "    }\n",
       "</style>\n",
       "<table border=\"1\" class=\"dataframe\">\n",
       "  <thead>\n",
       "    <tr style=\"text-align: right;\">\n",
       "      <th></th>\n",
       "      <th>flu_cases</th>\n",
       "      <th>flu_percent</th>\n",
       "      <th>week</th>\n",
       "    </tr>\n",
       "  </thead>\n",
       "  <tbody>\n",
       "    <tr>\n",
       "      <th>0</th>\n",
       "      <td>13021.0</td>\n",
       "      <td>1.401146</td>\n",
       "      <td>10.0</td>\n",
       "    </tr>\n",
       "    <tr>\n",
       "      <th>1</th>\n",
       "      <td>13291.0</td>\n",
       "      <td>1.430199</td>\n",
       "      <td>11.0</td>\n",
       "    </tr>\n",
       "    <tr>\n",
       "      <th>2</th>\n",
       "      <td>14357.0</td>\n",
       "      <td>1.544908</td>\n",
       "      <td>12.0</td>\n",
       "    </tr>\n",
       "    <tr>\n",
       "      <th>3</th>\n",
       "      <td>15845.0</td>\n",
       "      <td>1.705027</td>\n",
       "      <td>13.0</td>\n",
       "    </tr>\n",
       "    <tr>\n",
       "      <th>4</th>\n",
       "      <td>17081.0</td>\n",
       "      <td>1.838028</td>\n",
       "      <td>14.0</td>\n",
       "    </tr>\n",
       "  </tbody>\n",
       "</table>\n",
       "</div>"
      ],
      "text/plain": [
       "   flu_cases  flu_percent  week\n",
       "0    13021.0     1.401146  10.0\n",
       "1    13291.0     1.430199  11.0\n",
       "2    14357.0     1.544908  12.0\n",
       "3    15845.0     1.705027  13.0\n",
       "4    17081.0     1.838028  14.0"
      ]
     },
     "execution_count": 10,
     "metadata": {},
     "output_type": "execute_result"
    }
   ],
   "source": [
    "# Inspect the CDC dataframe.\n",
    "df_cdc.head()"
   ]
  },
  {
   "cell_type": "code",
   "execution_count": 11,
   "metadata": {},
   "outputs": [],
   "source": [
    "# Load the HHS dataframe from the json file.\n",
    "df_hhs = pd.read_json('../data/hhs_national.json')"
   ]
  },
  {
   "cell_type": "code",
   "execution_count": 12,
   "metadata": {},
   "outputs": [
    {
     "data": {
      "text/html": [
       "<div>\n",
       "<style>\n",
       "    .dataframe thead tr:only-child th {\n",
       "        text-align: right;\n",
       "    }\n",
       "\n",
       "    .dataframe thead th {\n",
       "        text-align: left;\n",
       "    }\n",
       "\n",
       "    .dataframe tbody tr th {\n",
       "        vertical-align: top;\n",
       "    }\n",
       "</style>\n",
       "<table border=\"1\" class=\"dataframe\">\n",
       "  <thead>\n",
       "    <tr style=\"text-align: right;\">\n",
       "      <th></th>\n",
       "      <th>vac_pct_week</th>\n",
       "      <th>vac_percent</th>\n",
       "      <th>vaccinations</th>\n",
       "      <th>week</th>\n",
       "    </tr>\n",
       "  </thead>\n",
       "  <tbody>\n",
       "    <tr>\n",
       "      <th>0</th>\n",
       "      <td>0.169688</td>\n",
       "      <td>0.169688</td>\n",
       "      <td>31422333</td>\n",
       "      <td>1</td>\n",
       "    </tr>\n",
       "    <tr>\n",
       "      <th>1</th>\n",
       "      <td>0.337779</td>\n",
       "      <td>0.507467</td>\n",
       "      <td>31422333</td>\n",
       "      <td>2</td>\n",
       "    </tr>\n",
       "    <tr>\n",
       "      <th>10</th>\n",
       "      <td>4.784500</td>\n",
       "      <td>30.386500</td>\n",
       "      <td>31422333</td>\n",
       "      <td>11</td>\n",
       "    </tr>\n",
       "    <tr>\n",
       "      <th>11</th>\n",
       "      <td>3.883400</td>\n",
       "      <td>34.269900</td>\n",
       "      <td>31422333</td>\n",
       "      <td>12</td>\n",
       "    </tr>\n",
       "    <tr>\n",
       "      <th>12</th>\n",
       "      <td>2.946000</td>\n",
       "      <td>37.215900</td>\n",
       "      <td>31422333</td>\n",
       "      <td>13</td>\n",
       "    </tr>\n",
       "  </tbody>\n",
       "</table>\n",
       "</div>"
      ],
      "text/plain": [
       "    vac_pct_week  vac_percent  vaccinations  week\n",
       "0       0.169688     0.169688      31422333     1\n",
       "1       0.337779     0.507467      31422333     2\n",
       "10      4.784500    30.386500      31422333    11\n",
       "11      3.883400    34.269900      31422333    12\n",
       "12      2.946000    37.215900      31422333    13"
      ]
     },
     "execution_count": 12,
     "metadata": {},
     "output_type": "execute_result"
    }
   ],
   "source": [
    "# Inspect the HHS dataframe.\n",
    "df_hhs.head()"
   ]
  },
  {
   "cell_type": "code",
   "execution_count": 13,
   "metadata": {
    "collapsed": true
   },
   "outputs": [],
   "source": [
    "# Sort by week to aid in analysis.\n",
    "df_hhs = df_hhs.sort_values(['week'])"
   ]
  },
  {
   "cell_type": "code",
   "execution_count": 14,
   "metadata": {
    "collapsed": true
   },
   "outputs": [],
   "source": [
    "# Merge the CDC and HHS data into the results dataframe.\n",
    "result = pd.merge(df_cdc, df_hhs, how='outer', on=['week'])"
   ]
  },
  {
   "cell_type": "code",
   "execution_count": 15,
   "metadata": {
    "collapsed": true
   },
   "outputs": [],
   "source": [
    "# Sort by week to aid in analysis.\n",
    "result = result.sort_values(by=['week'])"
   ]
  },
  {
   "cell_type": "code",
   "execution_count": 16,
   "metadata": {
    "collapsed": true
   },
   "outputs": [],
   "source": [
    "# Replace null values with zeroes where there is not intersection between CDC and HHS data.\n",
    "result.fillna(0, inplace=True)"
   ]
  },
  {
   "cell_type": "code",
   "execution_count": 17,
   "metadata": {},
   "outputs": [
    {
     "data": {
      "text/html": [
       "<div>\n",
       "<style>\n",
       "    .dataframe thead tr:only-child th {\n",
       "        text-align: right;\n",
       "    }\n",
       "\n",
       "    .dataframe thead th {\n",
       "        text-align: left;\n",
       "    }\n",
       "\n",
       "    .dataframe tbody tr th {\n",
       "        vertical-align: top;\n",
       "    }\n",
       "</style>\n",
       "<table border=\"1\" class=\"dataframe\">\n",
       "  <thead>\n",
       "    <tr style=\"text-align: right;\">\n",
       "      <th></th>\n",
       "      <th>flu_cases</th>\n",
       "      <th>flu_percent</th>\n",
       "      <th>week</th>\n",
       "      <th>vac_pct_week</th>\n",
       "      <th>vac_percent</th>\n",
       "      <th>vaccinations</th>\n",
       "    </tr>\n",
       "  </thead>\n",
       "  <tbody>\n",
       "    <tr>\n",
       "      <th>24</th>\n",
       "      <td>0.0</td>\n",
       "      <td>0.0</td>\n",
       "      <td>1.0</td>\n",
       "      <td>0.169688</td>\n",
       "      <td>0.169688</td>\n",
       "      <td>31422333.0</td>\n",
       "    </tr>\n",
       "    <tr>\n",
       "      <th>25</th>\n",
       "      <td>0.0</td>\n",
       "      <td>0.0</td>\n",
       "      <td>2.0</td>\n",
       "      <td>0.337779</td>\n",
       "      <td>0.507467</td>\n",
       "      <td>31422333.0</td>\n",
       "    </tr>\n",
       "    <tr>\n",
       "      <th>26</th>\n",
       "      <td>0.0</td>\n",
       "      <td>0.0</td>\n",
       "      <td>3.0</td>\n",
       "      <td>0.540393</td>\n",
       "      <td>1.047860</td>\n",
       "      <td>31422333.0</td>\n",
       "    </tr>\n",
       "    <tr>\n",
       "      <th>27</th>\n",
       "      <td>0.0</td>\n",
       "      <td>0.0</td>\n",
       "      <td>4.0</td>\n",
       "      <td>0.960920</td>\n",
       "      <td>2.008780</td>\n",
       "      <td>31422333.0</td>\n",
       "    </tr>\n",
       "    <tr>\n",
       "      <th>28</th>\n",
       "      <td>0.0</td>\n",
       "      <td>0.0</td>\n",
       "      <td>5.0</td>\n",
       "      <td>1.629500</td>\n",
       "      <td>3.638280</td>\n",
       "      <td>31422333.0</td>\n",
       "    </tr>\n",
       "  </tbody>\n",
       "</table>\n",
       "</div>"
      ],
      "text/plain": [
       "    flu_cases  flu_percent  week  vac_pct_week  vac_percent  vaccinations\n",
       "24        0.0          0.0   1.0      0.169688     0.169688    31422333.0\n",
       "25        0.0          0.0   2.0      0.337779     0.507467    31422333.0\n",
       "26        0.0          0.0   3.0      0.540393     1.047860    31422333.0\n",
       "27        0.0          0.0   4.0      0.960920     2.008780    31422333.0\n",
       "28        0.0          0.0   5.0      1.629500     3.638280    31422333.0"
      ]
     },
     "execution_count": 17,
     "metadata": {},
     "output_type": "execute_result"
    }
   ],
   "source": [
    "# Inspect the result dataframe.\n",
    "result.head()"
   ]
  },
  {
   "cell_type": "code",
   "execution_count": 18,
   "metadata": {},
   "outputs": [
    {
     "data": {
      "text/html": [
       "<div>\n",
       "<style>\n",
       "    .dataframe thead tr:only-child th {\n",
       "        text-align: right;\n",
       "    }\n",
       "\n",
       "    .dataframe thead th {\n",
       "        text-align: left;\n",
       "    }\n",
       "\n",
       "    .dataframe tbody tr th {\n",
       "        vertical-align: top;\n",
       "    }\n",
       "</style>\n",
       "<table border=\"1\" class=\"dataframe\">\n",
       "  <thead>\n",
       "    <tr style=\"text-align: right;\">\n",
       "      <th></th>\n",
       "      <th>flu_cases</th>\n",
       "      <th>flu_percent</th>\n",
       "      <th>week</th>\n",
       "      <th>vac_pct_week</th>\n",
       "      <th>vac_percent</th>\n",
       "      <th>vaccinations</th>\n",
       "    </tr>\n",
       "  </thead>\n",
       "  <tbody>\n",
       "    <tr>\n",
       "      <th>19</th>\n",
       "      <td>75004.0</td>\n",
       "      <td>8.070926</td>\n",
       "      <td>29.0</td>\n",
       "      <td>0.0</td>\n",
       "      <td>0.0</td>\n",
       "      <td>0.0</td>\n",
       "    </tr>\n",
       "    <tr>\n",
       "      <th>20</th>\n",
       "      <td>52010.0</td>\n",
       "      <td>5.596619</td>\n",
       "      <td>30.0</td>\n",
       "      <td>0.0</td>\n",
       "      <td>0.0</td>\n",
       "      <td>0.0</td>\n",
       "    </tr>\n",
       "    <tr>\n",
       "      <th>21</th>\n",
       "      <td>34714.0</td>\n",
       "      <td>3.735456</td>\n",
       "      <td>31.0</td>\n",
       "      <td>0.0</td>\n",
       "      <td>0.0</td>\n",
       "      <td>0.0</td>\n",
       "    </tr>\n",
       "    <tr>\n",
       "      <th>22</th>\n",
       "      <td>27738.0</td>\n",
       "      <td>2.984792</td>\n",
       "      <td>32.0</td>\n",
       "      <td>0.0</td>\n",
       "      <td>0.0</td>\n",
       "      <td>0.0</td>\n",
       "    </tr>\n",
       "    <tr>\n",
       "      <th>23</th>\n",
       "      <td>22781.0</td>\n",
       "      <td>2.451386</td>\n",
       "      <td>33.0</td>\n",
       "      <td>0.0</td>\n",
       "      <td>0.0</td>\n",
       "      <td>0.0</td>\n",
       "    </tr>\n",
       "  </tbody>\n",
       "</table>\n",
       "</div>"
      ],
      "text/plain": [
       "    flu_cases  flu_percent  week  vac_pct_week  vac_percent  vaccinations\n",
       "19    75004.0     8.070926  29.0           0.0          0.0           0.0\n",
       "20    52010.0     5.596619  30.0           0.0          0.0           0.0\n",
       "21    34714.0     3.735456  31.0           0.0          0.0           0.0\n",
       "22    27738.0     2.984792  32.0           0.0          0.0           0.0\n",
       "23    22781.0     2.451386  33.0           0.0          0.0           0.0"
      ]
     },
     "execution_count": 18,
     "metadata": {},
     "output_type": "execute_result"
    }
   ],
   "source": [
    "# Inspect the result dataframe.\n",
    "result.tail()"
   ]
  },
  {
   "cell_type": "code",
   "execution_count": 19,
   "metadata": {
    "collapsed": true
   },
   "outputs": [],
   "source": [
    "# Write the result dataframe to a json file for plots.\n",
    "result.to_json('../data/plot_national.json')"
   ]
  },
  {
   "cell_type": "code",
   "execution_count": 20,
   "metadata": {
    "collapsed": true
   },
   "outputs": [],
   "source": [
    "# Validate the file by loading it to a dataframe.\n",
    "df_plot = pd.read_json('../data/hhs_national.json')"
   ]
  },
  {
   "cell_type": "code",
   "execution_count": 21,
   "metadata": {
    "collapsed": true
   },
   "outputs": [],
   "source": [
    "# Sort the plot datafram to aid in analysis.\n",
    "df_plot = df_plot.sort_values(['week'])"
   ]
  },
  {
   "cell_type": "code",
   "execution_count": 22,
   "metadata": {},
   "outputs": [
    {
     "data": {
      "text/html": [
       "<div>\n",
       "<style>\n",
       "    .dataframe thead tr:only-child th {\n",
       "        text-align: right;\n",
       "    }\n",
       "\n",
       "    .dataframe thead th {\n",
       "        text-align: left;\n",
       "    }\n",
       "\n",
       "    .dataframe tbody tr th {\n",
       "        vertical-align: top;\n",
       "    }\n",
       "</style>\n",
       "<table border=\"1\" class=\"dataframe\">\n",
       "  <thead>\n",
       "    <tr style=\"text-align: right;\">\n",
       "      <th></th>\n",
       "      <th>vac_pct_week</th>\n",
       "      <th>vac_percent</th>\n",
       "      <th>vaccinations</th>\n",
       "      <th>week</th>\n",
       "    </tr>\n",
       "  </thead>\n",
       "  <tbody>\n",
       "    <tr>\n",
       "      <th>0</th>\n",
       "      <td>0.169688</td>\n",
       "      <td>0.169688</td>\n",
       "      <td>31422333</td>\n",
       "      <td>1</td>\n",
       "    </tr>\n",
       "    <tr>\n",
       "      <th>1</th>\n",
       "      <td>0.337779</td>\n",
       "      <td>0.507467</td>\n",
       "      <td>31422333</td>\n",
       "      <td>2</td>\n",
       "    </tr>\n",
       "    <tr>\n",
       "      <th>2</th>\n",
       "      <td>0.540393</td>\n",
       "      <td>1.047860</td>\n",
       "      <td>31422333</td>\n",
       "      <td>3</td>\n",
       "    </tr>\n",
       "    <tr>\n",
       "      <th>3</th>\n",
       "      <td>0.960920</td>\n",
       "      <td>2.008780</td>\n",
       "      <td>31422333</td>\n",
       "      <td>4</td>\n",
       "    </tr>\n",
       "    <tr>\n",
       "      <th>4</th>\n",
       "      <td>1.629500</td>\n",
       "      <td>3.638280</td>\n",
       "      <td>31422333</td>\n",
       "      <td>5</td>\n",
       "    </tr>\n",
       "  </tbody>\n",
       "</table>\n",
       "</div>"
      ],
      "text/plain": [
       "   vac_pct_week  vac_percent  vaccinations  week\n",
       "0      0.169688     0.169688      31422333     1\n",
       "1      0.337779     0.507467      31422333     2\n",
       "2      0.540393     1.047860      31422333     3\n",
       "3      0.960920     2.008780      31422333     4\n",
       "4      1.629500     3.638280      31422333     5"
      ]
     },
     "execution_count": 22,
     "metadata": {},
     "output_type": "execute_result"
    }
   ],
   "source": [
    "# Validate the plot dataframe.\n",
    "df_plot.head()"
   ]
  },
  {
   "cell_type": "code",
   "execution_count": 23,
   "metadata": {},
   "outputs": [
    {
     "data": {
      "text/html": [
       "<div>\n",
       "<style>\n",
       "    .dataframe thead tr:only-child th {\n",
       "        text-align: right;\n",
       "    }\n",
       "\n",
       "    .dataframe thead th {\n",
       "        text-align: left;\n",
       "    }\n",
       "\n",
       "    .dataframe tbody tr th {\n",
       "        vertical-align: top;\n",
       "    }\n",
       "</style>\n",
       "<table border=\"1\" class=\"dataframe\">\n",
       "  <thead>\n",
       "    <tr style=\"text-align: right;\">\n",
       "      <th></th>\n",
       "      <th>vac_pct_week</th>\n",
       "      <th>vac_percent</th>\n",
       "      <th>vaccinations</th>\n",
       "      <th>week</th>\n",
       "    </tr>\n",
       "  </thead>\n",
       "  <tbody>\n",
       "    <tr>\n",
       "      <th>20</th>\n",
       "      <td>0.2095</td>\n",
       "      <td>45.8187</td>\n",
       "      <td>31422333</td>\n",
       "      <td>21</td>\n",
       "    </tr>\n",
       "    <tr>\n",
       "      <th>21</th>\n",
       "      <td>0.1009</td>\n",
       "      <td>45.9196</td>\n",
       "      <td>31422333</td>\n",
       "      <td>22</td>\n",
       "    </tr>\n",
       "    <tr>\n",
       "      <th>22</th>\n",
       "      <td>0.0651</td>\n",
       "      <td>45.9847</td>\n",
       "      <td>31422333</td>\n",
       "      <td>23</td>\n",
       "    </tr>\n",
       "    <tr>\n",
       "      <th>23</th>\n",
       "      <td>0.0026</td>\n",
       "      <td>45.9873</td>\n",
       "      <td>31422333</td>\n",
       "      <td>24</td>\n",
       "    </tr>\n",
       "    <tr>\n",
       "      <th>24</th>\n",
       "      <td>0.0000</td>\n",
       "      <td>45.9873</td>\n",
       "      <td>31422333</td>\n",
       "      <td>25</td>\n",
       "    </tr>\n",
       "  </tbody>\n",
       "</table>\n",
       "</div>"
      ],
      "text/plain": [
       "    vac_pct_week  vac_percent  vaccinations  week\n",
       "20        0.2095      45.8187      31422333    21\n",
       "21        0.1009      45.9196      31422333    22\n",
       "22        0.0651      45.9847      31422333    23\n",
       "23        0.0026      45.9873      31422333    24\n",
       "24        0.0000      45.9873      31422333    25"
      ]
     },
     "execution_count": 23,
     "metadata": {},
     "output_type": "execute_result"
    }
   ],
   "source": [
    "# Validate the plot dataframe.\n",
    "df_plot.tail()"
   ]
  }
 ],
 "metadata": {
  "kernelspec": {
   "display_name": "Python 3",
   "language": "python",
   "name": "python3"
  },
  "language_info": {
   "codemirror_mode": {
    "name": "ipython",
    "version": 3
   },
   "file_extension": ".py",
   "mimetype": "text/x-python",
   "name": "python",
   "nbconvert_exporter": "python",
   "pygments_lexer": "ipython3",
   "version": "3.6.6"
  }
 },
 "nbformat": 4,
 "nbformat_minor": 2
}

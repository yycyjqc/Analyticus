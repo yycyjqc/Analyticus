{
 "cells": [
  {
   "cell_type": "markdown",
   "metadata": {},
   "source": [
    "<p>Module:  pull_hhs_national_10_years.py</p>\n",
    "<p>Version:  March 31, 2018</p>\n",
    "<p>Input:  HHS Vaccinations for six years for HHS API.</p>\n",
    "<p>Output:  HHS Vaccinations Json File for six years.</p>"
   ]
  },
  {
   "cell_type": "code",
   "execution_count": 3,
   "metadata": {
    "collapsed": true
   },
   "outputs": [],
   "source": [
    "# Dependencies\n",
    "import requests\n",
    "import json\n",
    "import numpy as np\n",
    "import pandas as pd"
   ]
  },
  {
   "cell_type": "code",
   "execution_count": 4,
   "metadata": {
    "collapsed": true
   },
   "outputs": [],
   "source": [
    "# Build a HHS dataframe for multiple API calls. \n",
    "# One call per year.\n",
    "df1 = pd.DataFrame()\n",
    "year_list = [2012, 2013, 2014, 2015, 2016, 2017]\n",
    "for year_entry in year_list:\n",
    "    url = \"https://fluvaccineapi.hhs.gov/api/v2/vaccination_rates/trends/{}/national.json?ethnicity=T&medicare_status=A\".format(year_entry)\n",
    "    national_dict = requests.get(url).json()\n",
    "    df = pd.DataFrame(national_dict)\n",
    "    df1 = df1.append(df, ignore_index=True)"
   ]
  },
  {
   "cell_type": "code",
   "execution_count": 5,
   "metadata": {},
   "outputs": [
    {
     "data": {
      "text/html": [
       "<div>\n",
       "<style>\n",
       "    .dataframe thead tr:only-child th {\n",
       "        text-align: right;\n",
       "    }\n",
       "\n",
       "    .dataframe thead th {\n",
       "        text-align: left;\n",
       "    }\n",
       "\n",
       "    .dataframe tbody tr th {\n",
       "        vertical-align: top;\n",
       "    }\n",
       "</style>\n",
       "<table border=\"1\" class=\"dataframe\">\n",
       "  <thead>\n",
       "    <tr style=\"text-align: right;\">\n",
       "      <th></th>\n",
       "      <th>count</th>\n",
       "      <th>disparity</th>\n",
       "      <th>ethnicity</th>\n",
       "      <th>fips</th>\n",
       "      <th>medicare_status</th>\n",
       "      <th>name</th>\n",
       "      <th>percentage</th>\n",
       "      <th>short_name</th>\n",
       "      <th>week</th>\n",
       "      <th>week_start</th>\n",
       "      <th>year</th>\n",
       "    </tr>\n",
       "  </thead>\n",
       "  <tbody>\n",
       "    <tr>\n",
       "      <th>0</th>\n",
       "      <td>26043833</td>\n",
       "      <td>0.0</td>\n",
       "      <td>T</td>\n",
       "      <td>0</td>\n",
       "      <td>A</td>\n",
       "      <td>National</td>\n",
       "      <td>0.512392</td>\n",
       "      <td>US</td>\n",
       "      <td>43</td>\n",
       "      <td>01JUN</td>\n",
       "      <td>2012</td>\n",
       "    </tr>\n",
       "    <tr>\n",
       "      <th>1</th>\n",
       "      <td>26043833</td>\n",
       "      <td>0.0</td>\n",
       "      <td>T</td>\n",
       "      <td>0</td>\n",
       "      <td>A</td>\n",
       "      <td>National</td>\n",
       "      <td>0.512401</td>\n",
       "      <td>US</td>\n",
       "      <td>44</td>\n",
       "      <td>08JUN</td>\n",
       "      <td>2012</td>\n",
       "    </tr>\n",
       "    <tr>\n",
       "      <th>2</th>\n",
       "      <td>26043833</td>\n",
       "      <td>0.0</td>\n",
       "      <td>T</td>\n",
       "      <td>0</td>\n",
       "      <td>A</td>\n",
       "      <td>National</td>\n",
       "      <td>0.512409</td>\n",
       "      <td>US</td>\n",
       "      <td>45</td>\n",
       "      <td>15JUN</td>\n",
       "      <td>2012</td>\n",
       "    </tr>\n",
       "    <tr>\n",
       "      <th>3</th>\n",
       "      <td>26043833</td>\n",
       "      <td>0.0</td>\n",
       "      <td>T</td>\n",
       "      <td>0</td>\n",
       "      <td>A</td>\n",
       "      <td>National</td>\n",
       "      <td>0.512415</td>\n",
       "      <td>US</td>\n",
       "      <td>46</td>\n",
       "      <td>22JUN</td>\n",
       "      <td>2012</td>\n",
       "    </tr>\n",
       "    <tr>\n",
       "      <th>4</th>\n",
       "      <td>26043833</td>\n",
       "      <td>0.0</td>\n",
       "      <td>T</td>\n",
       "      <td>0</td>\n",
       "      <td>A</td>\n",
       "      <td>National</td>\n",
       "      <td>0.512419</td>\n",
       "      <td>US</td>\n",
       "      <td>47</td>\n",
       "      <td>29JUN</td>\n",
       "      <td>2012</td>\n",
       "    </tr>\n",
       "  </tbody>\n",
       "</table>\n",
       "</div>"
      ],
      "text/plain": [
       "      count  disparity ethnicity fips medicare_status      name  percentage  \\\n",
       "0  26043833        0.0         T    0               A  National    0.512392   \n",
       "1  26043833        0.0         T    0               A  National    0.512401   \n",
       "2  26043833        0.0         T    0               A  National    0.512409   \n",
       "3  26043833        0.0         T    0               A  National    0.512415   \n",
       "4  26043833        0.0         T    0               A  National    0.512419   \n",
       "\n",
       "  short_name  week week_start  year  \n",
       "0         US    43      01JUN  2012  \n",
       "1         US    44      08JUN  2012  \n",
       "2         US    45      15JUN  2012  \n",
       "3         US    46      22JUN  2012  \n",
       "4         US    47      29JUN  2012  "
      ]
     },
     "execution_count": 5,
     "metadata": {},
     "output_type": "execute_result"
    }
   ],
   "source": [
    "# Inspect the HHS data just downloaded into a dataframe.\n",
    "df1.head()"
   ]
  },
  {
   "cell_type": "code",
   "execution_count": 6,
   "metadata": {
    "collapsed": true
   },
   "outputs": [],
   "source": [
    "# Save the raw HHS data to a file as a save point.\n",
    "df1.to_json('../data/raw_hhs_data.json')"
   ]
  },
  {
   "cell_type": "code",
   "execution_count": 7,
   "metadata": {
    "collapsed": true
   },
   "outputs": [],
   "source": [
    "# Read the file just created into a dataframe.\n",
    "# This services as a checkpoint in the process.\n",
    "df2 = pd.read_json('../data/raw_hhs_data.json')"
   ]
  },
  {
   "cell_type": "code",
   "execution_count": 8,
   "metadata": {},
   "outputs": [
    {
     "data": {
      "text/html": [
       "<div>\n",
       "<style>\n",
       "    .dataframe thead tr:only-child th {\n",
       "        text-align: right;\n",
       "    }\n",
       "\n",
       "    .dataframe thead th {\n",
       "        text-align: left;\n",
       "    }\n",
       "\n",
       "    .dataframe tbody tr th {\n",
       "        vertical-align: top;\n",
       "    }\n",
       "</style>\n",
       "<table border=\"1\" class=\"dataframe\">\n",
       "  <thead>\n",
       "    <tr style=\"text-align: right;\">\n",
       "      <th></th>\n",
       "      <th>count</th>\n",
       "      <th>disparity</th>\n",
       "      <th>ethnicity</th>\n",
       "      <th>fips</th>\n",
       "      <th>medicare_status</th>\n",
       "      <th>name</th>\n",
       "      <th>percentage</th>\n",
       "      <th>short_name</th>\n",
       "      <th>week</th>\n",
       "      <th>week_start</th>\n",
       "      <th>year</th>\n",
       "    </tr>\n",
       "  </thead>\n",
       "  <tbody>\n",
       "    <tr>\n",
       "      <th>0</th>\n",
       "      <td>26043833</td>\n",
       "      <td>0</td>\n",
       "      <td>T</td>\n",
       "      <td>0</td>\n",
       "      <td>A</td>\n",
       "      <td>National</td>\n",
       "      <td>0.512392</td>\n",
       "      <td>US</td>\n",
       "      <td>43</td>\n",
       "      <td>01JUN</td>\n",
       "      <td>2012</td>\n",
       "    </tr>\n",
       "    <tr>\n",
       "      <th>1</th>\n",
       "      <td>26043833</td>\n",
       "      <td>0</td>\n",
       "      <td>T</td>\n",
       "      <td>0</td>\n",
       "      <td>A</td>\n",
       "      <td>National</td>\n",
       "      <td>0.512401</td>\n",
       "      <td>US</td>\n",
       "      <td>44</td>\n",
       "      <td>08JUN</td>\n",
       "      <td>2012</td>\n",
       "    </tr>\n",
       "    <tr>\n",
       "      <th>10</th>\n",
       "      <td>27278865</td>\n",
       "      <td>0</td>\n",
       "      <td>T</td>\n",
       "      <td>0</td>\n",
       "      <td>A</td>\n",
       "      <td>National</td>\n",
       "      <td>0.000349</td>\n",
       "      <td>US</td>\n",
       "      <td>1</td>\n",
       "      <td>10AUG</td>\n",
       "      <td>2013</td>\n",
       "    </tr>\n",
       "    <tr>\n",
       "      <th>100</th>\n",
       "      <td>28830312</td>\n",
       "      <td>0</td>\n",
       "      <td>T</td>\n",
       "      <td>0</td>\n",
       "      <td>A</td>\n",
       "      <td>National</td>\n",
       "      <td>0.501679</td>\n",
       "      <td>US</td>\n",
       "      <td>39</td>\n",
       "      <td>02MAY</td>\n",
       "      <td>2014</td>\n",
       "    </tr>\n",
       "    <tr>\n",
       "      <th>101</th>\n",
       "      <td>28830312</td>\n",
       "      <td>0</td>\n",
       "      <td>T</td>\n",
       "      <td>0</td>\n",
       "      <td>A</td>\n",
       "      <td>National</td>\n",
       "      <td>0.501692</td>\n",
       "      <td>US</td>\n",
       "      <td>40</td>\n",
       "      <td>09MAY</td>\n",
       "      <td>2014</td>\n",
       "    </tr>\n",
       "  </tbody>\n",
       "</table>\n",
       "</div>"
      ],
      "text/plain": [
       "        count  disparity ethnicity  fips medicare_status      name  \\\n",
       "0    26043833          0         T     0               A  National   \n",
       "1    26043833          0         T     0               A  National   \n",
       "10   27278865          0         T     0               A  National   \n",
       "100  28830312          0         T     0               A  National   \n",
       "101  28830312          0         T     0               A  National   \n",
       "\n",
       "     percentage short_name  week week_start  year  \n",
       "0      0.512392         US    43      01JUN  2012  \n",
       "1      0.512401         US    44      08JUN  2012  \n",
       "10     0.000349         US     1      10AUG  2013  \n",
       "100    0.501679         US    39      02MAY  2014  \n",
       "101    0.501692         US    40      09MAY  2014  "
      ]
     },
     "execution_count": 8,
     "metadata": {},
     "output_type": "execute_result"
    }
   ],
   "source": [
    "# Inspect the HHS data.\n",
    "df2.head()"
   ]
  },
  {
   "cell_type": "code",
   "execution_count": 9,
   "metadata": {
    "collapsed": true
   },
   "outputs": [],
   "source": [
    "# Select only the attributes needed.\n",
    "df3 = df2[['count', 'percentage', 'year', 'week']]"
   ]
  },
  {
   "cell_type": "code",
   "execution_count": 10,
   "metadata": {
    "collapsed": true
   },
   "outputs": [],
   "source": [
    "# Rename columns to match the CCD data\n",
    "df4 = df3.rename(columns={\"count\":\"vaccinations\", \"percentage\":\"vac_percent\"})"
   ]
  },
  {
   "cell_type": "code",
   "execution_count": 11,
   "metadata": {
    "collapsed": true
   },
   "outputs": [],
   "source": [
    "# Sort the HHS data by year and week to aid in analysis.\n",
    "df5 = df4.sort_values(by=['year', 'week'])"
   ]
  },
  {
   "cell_type": "code",
   "execution_count": 12,
   "metadata": {},
   "outputs": [
    {
     "data": {
      "text/html": [
       "<div>\n",
       "<style>\n",
       "    .dataframe thead tr:only-child th {\n",
       "        text-align: right;\n",
       "    }\n",
       "\n",
       "    .dataframe thead th {\n",
       "        text-align: left;\n",
       "    }\n",
       "\n",
       "    .dataframe tbody tr th {\n",
       "        vertical-align: top;\n",
       "    }\n",
       "</style>\n",
       "<table border=\"1\" class=\"dataframe\">\n",
       "  <thead>\n",
       "    <tr style=\"text-align: right;\">\n",
       "      <th></th>\n",
       "      <th>vaccinations</th>\n",
       "      <th>vac_percent</th>\n",
       "      <th>year</th>\n",
       "      <th>week</th>\n",
       "    </tr>\n",
       "  </thead>\n",
       "  <tbody>\n",
       "    <tr>\n",
       "      <th>0</th>\n",
       "      <td>26043833</td>\n",
       "      <td>0.512392</td>\n",
       "      <td>2012</td>\n",
       "      <td>43</td>\n",
       "    </tr>\n",
       "    <tr>\n",
       "      <th>1</th>\n",
       "      <td>26043833</td>\n",
       "      <td>0.512401</td>\n",
       "      <td>2012</td>\n",
       "      <td>44</td>\n",
       "    </tr>\n",
       "    <tr>\n",
       "      <th>2</th>\n",
       "      <td>26043833</td>\n",
       "      <td>0.512409</td>\n",
       "      <td>2012</td>\n",
       "      <td>45</td>\n",
       "    </tr>\n",
       "    <tr>\n",
       "      <th>3</th>\n",
       "      <td>26043833</td>\n",
       "      <td>0.512415</td>\n",
       "      <td>2012</td>\n",
       "      <td>46</td>\n",
       "    </tr>\n",
       "    <tr>\n",
       "      <th>4</th>\n",
       "      <td>26043833</td>\n",
       "      <td>0.512419</td>\n",
       "      <td>2012</td>\n",
       "      <td>47</td>\n",
       "    </tr>\n",
       "  </tbody>\n",
       "</table>\n",
       "</div>"
      ],
      "text/plain": [
       "   vaccinations  vac_percent  year  week\n",
       "0      26043833     0.512392  2012    43\n",
       "1      26043833     0.512401  2012    44\n",
       "2      26043833     0.512409  2012    45\n",
       "3      26043833     0.512415  2012    46\n",
       "4      26043833     0.512419  2012    47"
      ]
     },
     "execution_count": 12,
     "metadata": {},
     "output_type": "execute_result"
    }
   ],
   "source": [
    "# Inspect HHS data.\n",
    "df5.head()"
   ]
  },
  {
   "cell_type": "code",
   "execution_count": 13,
   "metadata": {},
   "outputs": [
    {
     "data": {
      "text/html": [
       "<div>\n",
       "<style>\n",
       "    .dataframe thead tr:only-child th {\n",
       "        text-align: right;\n",
       "    }\n",
       "\n",
       "    .dataframe thead th {\n",
       "        text-align: left;\n",
       "    }\n",
       "\n",
       "    .dataframe tbody tr th {\n",
       "        vertical-align: top;\n",
       "    }\n",
       "</style>\n",
       "<table border=\"1\" class=\"dataframe\">\n",
       "  <thead>\n",
       "    <tr style=\"text-align: right;\">\n",
       "      <th></th>\n",
       "      <th>vaccinations</th>\n",
       "      <th>vac_percent</th>\n",
       "      <th>year</th>\n",
       "      <th>week</th>\n",
       "    </tr>\n",
       "  </thead>\n",
       "  <tbody>\n",
       "    <tr>\n",
       "      <th>238</th>\n",
       "      <td>31422333</td>\n",
       "      <td>0.458187</td>\n",
       "      <td>2017</td>\n",
       "      <td>21</td>\n",
       "    </tr>\n",
       "    <tr>\n",
       "      <th>239</th>\n",
       "      <td>31422333</td>\n",
       "      <td>0.459196</td>\n",
       "      <td>2017</td>\n",
       "      <td>22</td>\n",
       "    </tr>\n",
       "    <tr>\n",
       "      <th>240</th>\n",
       "      <td>31422333</td>\n",
       "      <td>0.459847</td>\n",
       "      <td>2017</td>\n",
       "      <td>23</td>\n",
       "    </tr>\n",
       "    <tr>\n",
       "      <th>241</th>\n",
       "      <td>31422333</td>\n",
       "      <td>0.459873</td>\n",
       "      <td>2017</td>\n",
       "      <td>24</td>\n",
       "    </tr>\n",
       "    <tr>\n",
       "      <th>242</th>\n",
       "      <td>31422333</td>\n",
       "      <td>0.459873</td>\n",
       "      <td>2017</td>\n",
       "      <td>25</td>\n",
       "    </tr>\n",
       "  </tbody>\n",
       "</table>\n",
       "</div>"
      ],
      "text/plain": [
       "     vaccinations  vac_percent  year  week\n",
       "238      31422333     0.458187  2017    21\n",
       "239      31422333     0.459196  2017    22\n",
       "240      31422333     0.459847  2017    23\n",
       "241      31422333     0.459873  2017    24\n",
       "242      31422333     0.459873  2017    25"
      ]
     },
     "execution_count": 13,
     "metadata": {},
     "output_type": "execute_result"
    }
   ],
   "source": [
    "# Inspect HHS data.\n",
    "df5.tail()"
   ]
  },
  {
   "cell_type": "code",
   "execution_count": 14,
   "metadata": {
    "collapsed": true
   },
   "outputs": [],
   "source": [
    "# Add a \"vaccinations percent by week\" attribute to the HHS data.\n",
    "df5['vac_pct_week'] = 0.0"
   ]
  },
  {
   "cell_type": "code",
   "execution_count": 15,
   "metadata": {
    "collapsed": true
   },
   "outputs": [],
   "source": [
    "# Convert the vaccination percentage from a ration to a percentage.\n",
    "df5['vac_percent'] = df5['vac_percent'] * 100"
   ]
  },
  {
   "cell_type": "code",
   "execution_count": 16,
   "metadata": {},
   "outputs": [
    {
     "data": {
      "text/html": [
       "<div>\n",
       "<style>\n",
       "    .dataframe thead tr:only-child th {\n",
       "        text-align: right;\n",
       "    }\n",
       "\n",
       "    .dataframe thead th {\n",
       "        text-align: left;\n",
       "    }\n",
       "\n",
       "    .dataframe tbody tr th {\n",
       "        vertical-align: top;\n",
       "    }\n",
       "</style>\n",
       "<table border=\"1\" class=\"dataframe\">\n",
       "  <thead>\n",
       "    <tr style=\"text-align: right;\">\n",
       "      <th></th>\n",
       "      <th>vaccinations</th>\n",
       "      <th>vac_percent</th>\n",
       "      <th>year</th>\n",
       "      <th>week</th>\n",
       "      <th>vac_pct_week</th>\n",
       "    </tr>\n",
       "  </thead>\n",
       "  <tbody>\n",
       "    <tr>\n",
       "      <th>0</th>\n",
       "      <td>26043833</td>\n",
       "      <td>51.2392</td>\n",
       "      <td>2012</td>\n",
       "      <td>43</td>\n",
       "      <td>0.0</td>\n",
       "    </tr>\n",
       "    <tr>\n",
       "      <th>1</th>\n",
       "      <td>26043833</td>\n",
       "      <td>51.2401</td>\n",
       "      <td>2012</td>\n",
       "      <td>44</td>\n",
       "      <td>0.0</td>\n",
       "    </tr>\n",
       "    <tr>\n",
       "      <th>2</th>\n",
       "      <td>26043833</td>\n",
       "      <td>51.2409</td>\n",
       "      <td>2012</td>\n",
       "      <td>45</td>\n",
       "      <td>0.0</td>\n",
       "    </tr>\n",
       "    <tr>\n",
       "      <th>3</th>\n",
       "      <td>26043833</td>\n",
       "      <td>51.2415</td>\n",
       "      <td>2012</td>\n",
       "      <td>46</td>\n",
       "      <td>0.0</td>\n",
       "    </tr>\n",
       "    <tr>\n",
       "      <th>4</th>\n",
       "      <td>26043833</td>\n",
       "      <td>51.2419</td>\n",
       "      <td>2012</td>\n",
       "      <td>47</td>\n",
       "      <td>0.0</td>\n",
       "    </tr>\n",
       "  </tbody>\n",
       "</table>\n",
       "</div>"
      ],
      "text/plain": [
       "   vaccinations  vac_percent  year  week  vac_pct_week\n",
       "0      26043833      51.2392  2012    43           0.0\n",
       "1      26043833      51.2401  2012    44           0.0\n",
       "2      26043833      51.2409  2012    45           0.0\n",
       "3      26043833      51.2415  2012    46           0.0\n",
       "4      26043833      51.2419  2012    47           0.0"
      ]
     },
     "execution_count": 16,
     "metadata": {},
     "output_type": "execute_result"
    }
   ],
   "source": [
    "# Inspect the HHS dataframe.\n",
    "df5.head()"
   ]
  },
  {
   "cell_type": "code",
   "execution_count": 17,
   "metadata": {
    "collapsed": true
   },
   "outputs": [],
   "source": [
    "# Calculate vaccination rate percentage per week \n",
    "# by finding the difference in the culmulative vaccination\n",
    "# rate between weeks.\n",
    "for index_entry in df5.index:\n",
    "    if df5.loc[index_entry, 'week'] == 1:\n",
    "        df5.loc[index_entry, 'vac_pct_week'] = df5.loc[index_entry, 'vac_percent']\n",
    "    elif index_entry > 0:\n",
    "        i = index_entry - 1\n",
    "        df5.loc[index_entry, 'vac_pct_week'] = df5.loc[index_entry, 'vac_percent'] - df5.loc[i, 'vac_percent']"
   ]
  },
  {
   "cell_type": "code",
   "execution_count": 19,
   "metadata": {},
   "outputs": [
    {
     "data": {
      "text/html": [
       "<div>\n",
       "<style>\n",
       "    .dataframe thead tr:only-child th {\n",
       "        text-align: right;\n",
       "    }\n",
       "\n",
       "    .dataframe thead th {\n",
       "        text-align: left;\n",
       "    }\n",
       "\n",
       "    .dataframe tbody tr th {\n",
       "        vertical-align: top;\n",
       "    }\n",
       "</style>\n",
       "<table border=\"1\" class=\"dataframe\">\n",
       "  <thead>\n",
       "    <tr style=\"text-align: right;\">\n",
       "      <th></th>\n",
       "      <th>vaccinations</th>\n",
       "      <th>vac_percent</th>\n",
       "      <th>year</th>\n",
       "      <th>week</th>\n",
       "      <th>vac_pct_week</th>\n",
       "    </tr>\n",
       "  </thead>\n",
       "  <tbody>\n",
       "    <tr>\n",
       "      <th>238</th>\n",
       "      <td>31422333</td>\n",
       "      <td>45.8187</td>\n",
       "      <td>2017</td>\n",
       "      <td>21</td>\n",
       "      <td>0.2095</td>\n",
       "    </tr>\n",
       "    <tr>\n",
       "      <th>239</th>\n",
       "      <td>31422333</td>\n",
       "      <td>45.9196</td>\n",
       "      <td>2017</td>\n",
       "      <td>22</td>\n",
       "      <td>0.1009</td>\n",
       "    </tr>\n",
       "    <tr>\n",
       "      <th>240</th>\n",
       "      <td>31422333</td>\n",
       "      <td>45.9847</td>\n",
       "      <td>2017</td>\n",
       "      <td>23</td>\n",
       "      <td>0.0651</td>\n",
       "    </tr>\n",
       "    <tr>\n",
       "      <th>241</th>\n",
       "      <td>31422333</td>\n",
       "      <td>45.9873</td>\n",
       "      <td>2017</td>\n",
       "      <td>24</td>\n",
       "      <td>0.0026</td>\n",
       "    </tr>\n",
       "    <tr>\n",
       "      <th>242</th>\n",
       "      <td>31422333</td>\n",
       "      <td>45.9873</td>\n",
       "      <td>2017</td>\n",
       "      <td>25</td>\n",
       "      <td>0.0000</td>\n",
       "    </tr>\n",
       "  </tbody>\n",
       "</table>\n",
       "</div>"
      ],
      "text/plain": [
       "     vaccinations  vac_percent  year  week  vac_pct_week\n",
       "238      31422333      45.8187  2017    21        0.2095\n",
       "239      31422333      45.9196  2017    22        0.1009\n",
       "240      31422333      45.9847  2017    23        0.0651\n",
       "241      31422333      45.9873  2017    24        0.0026\n",
       "242      31422333      45.9873  2017    25        0.0000"
      ]
     },
     "execution_count": 19,
     "metadata": {},
     "output_type": "execute_result"
    }
   ],
   "source": [
    "# Inspect the HHS dataframe for the calculated vaccination rate per week.\n",
    "df5.tail()"
   ]
  },
  {
   "cell_type": "code",
   "execution_count": 20,
   "metadata": {
    "collapsed": true
   },
   "outputs": [],
   "source": [
    "# Write the HHS data for ten years at the national level to a json file.\n",
    "df5.to_json('../data/hhs_national_10_years.json')"
   ]
  },
  {
   "cell_type": "code",
   "execution_count": 21,
   "metadata": {
    "collapsed": true
   },
   "outputs": [],
   "source": [
    "# Validate the above file by loading it into a dataframe.\n",
    "df6 = pd.read_json('../data/hhs_national_10_years.json')"
   ]
  },
  {
   "cell_type": "code",
   "execution_count": 22,
   "metadata": {
    "collapsed": true
   },
   "outputs": [],
   "source": [
    "# Sort the HHS data into year, week sequence to aid in inspection.\n",
    "df7 = df6.sort_values(['year', 'week'])"
   ]
  },
  {
   "cell_type": "code",
   "execution_count": 23,
   "metadata": {},
   "outputs": [
    {
     "data": {
      "text/html": [
       "<div>\n",
       "<style>\n",
       "    .dataframe thead tr:only-child th {\n",
       "        text-align: right;\n",
       "    }\n",
       "\n",
       "    .dataframe thead th {\n",
       "        text-align: left;\n",
       "    }\n",
       "\n",
       "    .dataframe tbody tr th {\n",
       "        vertical-align: top;\n",
       "    }\n",
       "</style>\n",
       "<table border=\"1\" class=\"dataframe\">\n",
       "  <thead>\n",
       "    <tr style=\"text-align: right;\">\n",
       "      <th></th>\n",
       "      <th>vac_pct_week</th>\n",
       "      <th>vac_percent</th>\n",
       "      <th>vaccinations</th>\n",
       "      <th>week</th>\n",
       "      <th>year</th>\n",
       "    </tr>\n",
       "  </thead>\n",
       "  <tbody>\n",
       "    <tr>\n",
       "      <th>0</th>\n",
       "      <td>0.0000</td>\n",
       "      <td>51.2392</td>\n",
       "      <td>26043833</td>\n",
       "      <td>43</td>\n",
       "      <td>2012</td>\n",
       "    </tr>\n",
       "    <tr>\n",
       "      <th>1</th>\n",
       "      <td>0.0009</td>\n",
       "      <td>51.2401</td>\n",
       "      <td>26043833</td>\n",
       "      <td>44</td>\n",
       "      <td>2012</td>\n",
       "    </tr>\n",
       "    <tr>\n",
       "      <th>2</th>\n",
       "      <td>0.0008</td>\n",
       "      <td>51.2409</td>\n",
       "      <td>26043833</td>\n",
       "      <td>45</td>\n",
       "      <td>2012</td>\n",
       "    </tr>\n",
       "    <tr>\n",
       "      <th>3</th>\n",
       "      <td>0.0006</td>\n",
       "      <td>51.2415</td>\n",
       "      <td>26043833</td>\n",
       "      <td>46</td>\n",
       "      <td>2012</td>\n",
       "    </tr>\n",
       "    <tr>\n",
       "      <th>4</th>\n",
       "      <td>0.0004</td>\n",
       "      <td>51.2419</td>\n",
       "      <td>26043833</td>\n",
       "      <td>47</td>\n",
       "      <td>2012</td>\n",
       "    </tr>\n",
       "  </tbody>\n",
       "</table>\n",
       "</div>"
      ],
      "text/plain": [
       "   vac_pct_week  vac_percent  vaccinations  week  year\n",
       "0        0.0000      51.2392      26043833    43  2012\n",
       "1        0.0009      51.2401      26043833    44  2012\n",
       "2        0.0008      51.2409      26043833    45  2012\n",
       "3        0.0006      51.2415      26043833    46  2012\n",
       "4        0.0004      51.2419      26043833    47  2012"
      ]
     },
     "execution_count": 23,
     "metadata": {},
     "output_type": "execute_result"
    }
   ],
   "source": [
    "# Inspect the HHS data.\n",
    "df7.head()"
   ]
  },
  {
   "cell_type": "code",
   "execution_count": 24,
   "metadata": {},
   "outputs": [
    {
     "data": {
      "text/html": [
       "<div>\n",
       "<style>\n",
       "    .dataframe thead tr:only-child th {\n",
       "        text-align: right;\n",
       "    }\n",
       "\n",
       "    .dataframe thead th {\n",
       "        text-align: left;\n",
       "    }\n",
       "\n",
       "    .dataframe tbody tr th {\n",
       "        vertical-align: top;\n",
       "    }\n",
       "</style>\n",
       "<table border=\"1\" class=\"dataframe\">\n",
       "  <thead>\n",
       "    <tr style=\"text-align: right;\">\n",
       "      <th></th>\n",
       "      <th>vac_pct_week</th>\n",
       "      <th>vac_percent</th>\n",
       "      <th>vaccinations</th>\n",
       "      <th>week</th>\n",
       "      <th>year</th>\n",
       "    </tr>\n",
       "  </thead>\n",
       "  <tbody>\n",
       "    <tr>\n",
       "      <th>238</th>\n",
       "      <td>0.2095</td>\n",
       "      <td>45.8187</td>\n",
       "      <td>31422333</td>\n",
       "      <td>21</td>\n",
       "      <td>2017</td>\n",
       "    </tr>\n",
       "    <tr>\n",
       "      <th>239</th>\n",
       "      <td>0.1009</td>\n",
       "      <td>45.9196</td>\n",
       "      <td>31422333</td>\n",
       "      <td>22</td>\n",
       "      <td>2017</td>\n",
       "    </tr>\n",
       "    <tr>\n",
       "      <th>240</th>\n",
       "      <td>0.0651</td>\n",
       "      <td>45.9847</td>\n",
       "      <td>31422333</td>\n",
       "      <td>23</td>\n",
       "      <td>2017</td>\n",
       "    </tr>\n",
       "    <tr>\n",
       "      <th>241</th>\n",
       "      <td>0.0026</td>\n",
       "      <td>45.9873</td>\n",
       "      <td>31422333</td>\n",
       "      <td>24</td>\n",
       "      <td>2017</td>\n",
       "    </tr>\n",
       "    <tr>\n",
       "      <th>242</th>\n",
       "      <td>0.0000</td>\n",
       "      <td>45.9873</td>\n",
       "      <td>31422333</td>\n",
       "      <td>25</td>\n",
       "      <td>2017</td>\n",
       "    </tr>\n",
       "  </tbody>\n",
       "</table>\n",
       "</div>"
      ],
      "text/plain": [
       "     vac_pct_week  vac_percent  vaccinations  week  year\n",
       "238        0.2095      45.8187      31422333    21  2017\n",
       "239        0.1009      45.9196      31422333    22  2017\n",
       "240        0.0651      45.9847      31422333    23  2017\n",
       "241        0.0026      45.9873      31422333    24  2017\n",
       "242        0.0000      45.9873      31422333    25  2017"
      ]
     },
     "execution_count": 24,
     "metadata": {},
     "output_type": "execute_result"
    }
   ],
   "source": [
    "# Inspect the HHS data.\n",
    "df7.tail()"
   ]
  }
 ],
 "metadata": {
  "kernelspec": {
   "display_name": "Python 3",
   "language": "python",
   "name": "python3"
  },
  "language_info": {
   "codemirror_mode": {
    "name": "ipython",
    "version": 3
   },
   "file_extension": ".py",
   "mimetype": "text/x-python",
   "name": "python",
   "nbconvert_exporter": "python",
   "pygments_lexer": "ipython3",
   "version": "3.6.6"
  },
  "varInspector": {
   "cols": {
    "lenName": 16,
    "lenType": 16,
    "lenVar": 40
   },
   "kernels_config": {
    "python": {
     "delete_cmd_postfix": "",
     "delete_cmd_prefix": "del ",
     "library": "var_list.py",
     "varRefreshCmd": "print(var_dic_list())"
    },
    "r": {
     "delete_cmd_postfix": ") ",
     "delete_cmd_prefix": "rm(",
     "library": "var_list.r",
     "varRefreshCmd": "cat(var_dic_list()) "
    }
   },
   "types_to_exclude": [
    "module",
    "function",
    "builtin_function_or_method",
    "instance",
    "_Feature"
   ],
   "window_display": false
  }
 },
 "nbformat": 4,
 "nbformat_minor": 2
}
